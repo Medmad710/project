{
 "cells": [
  {
   "cell_type": "code",
   "execution_count": 4,
   "metadata": {},
   "outputs": [],
   "source": [
    "a=\"https://www.ozon.ru/product/celine-galstuk-519122171/?advert=lg021Hl1zKxug3yIUSLVuK-BxpOAJXjbwelmMiXpqn0yOLdNrHqBDh1B94VGX6HZPBfMefFQKkVbnu1AJJeExzxEhrEjXxMH6oLOiA3VAJg8HvF1D4teW_ApF6CYKhC3tpCmjlYMfhyeylTGmfQnlKwVPiLHhWa_OUTygedALc1ImTvY3kEXoSY8GeriLhwbCdPf7hIFJ-vLLH0cbi9EMBWmh5dEV0ldtJse7ycgJWuDZ2quYALBJ-4FJy1AmGjr6pJE0WL3UYM4HtOQkg7RWPPwZGWjH3lIYuhcWDYQ-0UDcpu1uupFvdh-U9nAsiPVdNs8WSdJ-fFCz-Q&avtc=1&avte=4&avts=1717765898&keywords=%D0%BC%D1%83%D0%B6%D1%81%D0%BA%D0%B8%D0%B5+%D0%BE%D1%80%D0%B0%D0%BD%D0%B6%D0%B5%D0%B2%D1%8B%D0%B5+%D0%B3%D0%B0%D0%BB%D1%81%D1%82%D1%83%D0%BA%D0%B8\""
   ]
  },
  {
   "cell_type": "code",
   "execution_count": 25,
   "metadata": {},
   "outputs": [],
   "source": [
    "a=\"https://ozon.kz/product/new-style-remen-1574212298/?avtc=1&avte=2&avts=1717928295\""
   ]
  },
  {
   "cell_type": "code",
   "execution_count": 45,
   "metadata": {},
   "outputs": [],
   "source": [
    "a=\"https://ozon.kz/product/plastilin-super-legkiy-vozdushnyy-plastilin-nabor-36-tsvetov-353781721/?asb=2gMXT7EzbGlpaT5ql%252BdxXG17IN4cKZ2bwyfHBPmgVYo%253D&asb2=8gH5_FXZm0mdEAyK2UvRb2xAOOVAYazEt4oYBURQNKKLSlPFBFTFf5rK-PQzgNCoHgC48GhMaPQDoXaptvR_vg&avtc=1&avte=2&avts=1717928764\""
   ]
  },
  {
   "cell_type": "code",
   "execution_count": 2,
   "metadata": {},
   "outputs": [],
   "source": [
    "import requests\n",
    "from bs4 import BeautifulSoup"
   ]
  },
  {
   "cell_type": "code",
   "execution_count": 46,
   "metadata": {},
   "outputs": [],
   "source": [
    "response = requests.get(a)\n",
    "html_content = response.content\n",
    "soup = BeautifulSoup(html_content, 'html.parser')"
   ]
  },
  {
   "cell_type": "code",
   "execution_count": 47,
   "metadata": {},
   "outputs": [
    {
     "data": {
      "text/plain": [
       "'1\\u2009314\\u2009₸'"
      ]
     },
     "execution_count": 47,
     "metadata": {},
     "output_type": "execute_result"
    }
   ],
   "source": [
    "soup.find('div', class_='b2').find(\n",
    "    'div', class_='container b6').find(\"span\", class_=\"mm4_27 m4m_27 mn1_27\").text.strip()"
   ]
  },
  {
   "cell_type": "code",
   "execution_count": 48,
   "metadata": {},
   "outputs": [
    {
     "data": {
      "text/plain": [
       "'1\\u2009314\\u2009₸'"
      ]
     },
     "execution_count": 48,
     "metadata": {},
     "output_type": "execute_result"
    }
   ],
   "source": [
    "soup.find('div', class_='b2').find(\n",
    "    'div', class_='container b6').find(\"span\", class_=\"mm4_27 m4m_27 mn1_27\").text.strip()"
   ]
  },
  {
   "cell_type": "code",
   "execution_count": 23,
   "metadata": {},
   "outputs": [],
   "source": [
    "def PriceFind(url):\n",
    "    try:\n",
    "        response = requests.get(url)\n",
    "        html_content = response.content\n",
    "        soup = BeautifulSoup(html_content, 'html.parser')\n",
    "        price = soup.find('div', class_='b2').find(\n",
    "            'div', class_='container b6').find(\n",
    "            'div', class_=\"ln2_27 l7n_27\").find(\n",
    "            'div', class_=\"ln2_27 l8n_27 l5n_27 nl5_27\").find(\n",
    "            'div', class_=\"ln2_27 l8n_27 l5n_27 n5l_27\").find(\n",
    "            'div', class_=\"mp3_27 m5p_27\").find(\n",
    "            'div', class_=\"pm4_27 mp5_27\").find(\n",
    "            'div', class_=\"lz8_27\").find(\n",
    "            'div', class_=\"lz7_27\").find(\n",
    "            \"div\", class_=\"mm_27 nm_27\").find(\n",
    "            \"div\", class_=\"m5m_27\").find(\n",
    "            \"div\", class_=\"mm6_27\").find(\n",
    "            \"span\", class_=\"mm2_27 m2m_27 mn0_27\").text.strip()\n",
    "        return price\n",
    "    except:\n",
    "        return -1"
   ]
  },
  {
   "cell_type": "code",
   "execution_count": 26,
   "metadata": {},
   "outputs": [
    {
     "data": {
      "text/plain": [
       "-1"
      ]
     },
     "execution_count": 26,
     "metadata": {},
     "output_type": "execute_result"
    }
   ],
   "source": [
    "PriceFind(a)"
   ]
  },
  {
   "cell_type": "code",
   "execution_count": 1,
   "metadata": {},
   "outputs": [
    {
     "name": "stdout",
     "output_type": "stream",
     "text": [
      "3\n",
      "2\n"
     ]
    }
   ],
   "source": [
    "for i in range(3,1,-1):\n",
    "    print(i)"
   ]
  },
  {
   "cell_type": "code",
   "execution_count": 49,
   "metadata": {},
   "outputs": [],
   "source": [
    "url = input()"
   ]
  },
  {
   "cell_type": "code",
   "execution_count": 52,
   "metadata": {},
   "outputs": [
    {
     "name": "stdout",
     "output_type": "stream",
     "text": [
      "Пластилин супер лёгкий воздушный пластилин ,набор 36 цветов\n"
     ]
    }
   ],
   "source": [
    "response = requests.get(url)\n",
    "html_content = response.content\n",
    "soup = BeautifulSoup(html_content, 'html.parser')\n",
    "price = soup.find('div', class_='b2').find(\n",
    "    'div', class_='container b6').find(\"h1\", class_=\"mn3_27 tsHeadline550Medium\").text.strip()\n",
    "print( price)\n"
   ]
  },
  {
   "cell_type": "code",
   "execution_count": null,
   "metadata": {},
   "outputs": [],
   "source": []
  }
 ],
 "metadata": {
  "kernelspec": {
   "display_name": "Python 3",
   "language": "python",
   "name": "python3"
  },
  "language_info": {
   "codemirror_mode": {
    "name": "ipython",
    "version": 3
   },
   "file_extension": ".py",
   "mimetype": "text/x-python",
   "name": "python",
   "nbconvert_exporter": "python",
   "pygments_lexer": "ipython3",
   "version": "3.11.4"
  }
 },
 "nbformat": 4,
 "nbformat_minor": 2
}
